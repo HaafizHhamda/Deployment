{
 "cells": [
  {
   "cell_type": "code",
   "execution_count": 1,
   "id": "a0669886",
   "metadata": {},
   "outputs": [],
   "source": [
    "import pandas as pd\n",
    "import pickle"
   ]
  },
  {
   "cell_type": "code",
   "execution_count": 2,
   "id": "9cd6cdae",
   "metadata": {},
   "outputs": [],
   "source": [
    "# load model \n",
    "with open('best_random_forest_regressor.pkl', 'rb') as f:\n",
    "    loaded_model = pickle.load(f)"
   ]
  },
  {
   "cell_type": "code",
   "execution_count": 3,
   "id": "a3466787",
   "metadata": {},
   "outputs": [
    {
     "data": {
      "text/html": [
       "<div>\n",
       "<style scoped>\n",
       "    .dataframe tbody tr th:only-of-type {\n",
       "        vertical-align: middle;\n",
       "    }\n",
       "\n",
       "    .dataframe tbody tr th {\n",
       "        vertical-align: top;\n",
       "    }\n",
       "\n",
       "    .dataframe thead th {\n",
       "        text-align: right;\n",
       "    }\n",
       "</style>\n",
       "<table border=\"1\" class=\"dataframe\">\n",
       "  <thead>\n",
       "    <tr style=\"text-align: right;\">\n",
       "      <th></th>\n",
       "      <th>Trip_Distance_km</th>\n",
       "      <th>Time_of_Day</th>\n",
       "      <th>Day_of_Week</th>\n",
       "      <th>Passenger_Count</th>\n",
       "      <th>Traffic_Conditions</th>\n",
       "      <th>Weather</th>\n",
       "      <th>Base_Fare</th>\n",
       "      <th>Per_Km_Rate</th>\n",
       "      <th>Per_Minute_Rate</th>\n",
       "      <th>Trip_Duration_Minutes</th>\n",
       "    </tr>\n",
       "  </thead>\n",
       "  <tbody>\n",
       "    <tr>\n",
       "      <th>0</th>\n",
       "      <td>20.05</td>\n",
       "      <td>Evening</td>\n",
       "      <td>Unknown</td>\n",
       "      <td>2.0</td>\n",
       "      <td>Low</td>\n",
       "      <td>Unknown</td>\n",
       "      <td>3.02</td>\n",
       "      <td>0.86</td>\n",
       "      <td>0.39</td>\n",
       "      <td>24.61</td>\n",
       "    </tr>\n",
       "  </tbody>\n",
       "</table>\n",
       "</div>"
      ],
      "text/plain": [
       "   Trip_Distance_km Time_of_Day Day_of_Week  Passenger_Count  \\\n",
       "0             20.05     Evening     Unknown              2.0   \n",
       "\n",
       "  Traffic_Conditions  Weather  Base_Fare  Per_Km_Rate  Per_Minute_Rate  \\\n",
       "0                Low  Unknown       3.02         0.86             0.39   \n",
       "\n",
       "   Trip_Duration_Minutes  \n",
       "0                  24.61  "
      ]
     },
     "execution_count": 3,
     "metadata": {},
     "output_type": "execute_result"
    }
   ],
   "source": [
    "# Input data\n",
    "new_data = pd.DataFrame([{\n",
    "    'Trip_Distance_km':20.0500,\n",
    "    'Time_of_Day':'Evening',\n",
    "    'Day_of_Week':'Unknown', \n",
    "    'Passenger_Count':2.0000,\n",
    "    'Traffic_Conditions':'Low',\n",
    "    'Weather':'Unknown',\n",
    "    'Base_Fare':3.0200,\n",
    "    'Per_Km_Rate':0.8600,\n",
    "    'Per_Minute_Rate':0.3900,\n",
    "    'Trip_Duration_Minutes':24.6100\n",
    "}])\n",
    "new_data"
   ]
  },
  {
   "cell_type": "code",
   "execution_count": 4,
   "id": "afa7e2ae",
   "metadata": {},
   "outputs": [
    {
     "data": {
      "text/plain": [
       "array([29.55703076])"
      ]
     },
     "execution_count": 4,
     "metadata": {},
     "output_type": "execute_result"
    }
   ],
   "source": [
    "y_pred = loaded_model.predict(new_data)\n",
    "y_pred"
   ]
  }
 ],
 "metadata": {
  "kernelspec": {
   "display_name": "Python 3",
   "language": "python",
   "name": "python3"
  },
  "language_info": {
   "codemirror_mode": {
    "name": "ipython",
    "version": 3
   },
   "file_extension": ".py",
   "mimetype": "text/x-python",
   "name": "python",
   "nbconvert_exporter": "python",
   "pygments_lexer": "ipython3",
   "version": "3.9.23"
  }
 },
 "nbformat": 4,
 "nbformat_minor": 5
}
